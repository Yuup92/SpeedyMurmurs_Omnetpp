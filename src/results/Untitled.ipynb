{
 "cells": [
  {
   "cell_type": "code",
   "execution_count": 59,
   "metadata": {},
   "outputs": [
    {
     "data": {
      "image/png": "[encoded data removed]",
      "text/plain": [
       "<Figure size 432x288 with 1 Axes>"
      ]
     },
     "metadata": {
      "needs_background": "light"
     },
     "output_type": "display_data"
    }
   ],
   "source": [
    "import pandas as pd\n",
    "import numpy as np\n",
    "import matplotlib.pyplot as plt\n",
    "%matplotlib inline\n",
    "\n",
    "def parse_if_number(s):\n",
    "    try: return float(s)\n",
    "    except: return True if s==\"true\" else False if s==\"false\" else s if s else None\n",
    "\n",
    "def parse_ndarray(s):\n",
    "    return np.fromstring(s, sep=' ') if s else None\n",
    "\n",
    "test = pd.read_csv('test.csv', converters={\n",
    "    'vectime': parse_ndarray,\n",
    "    'vecvalue':parse_ndarray},\n",
    "                  usecols=['run','type','module','name','vectime','vecvalue'])\n",
    "\n",
    "test.tail()\n",
    "\n",
    "tmp = test[['run', 'vecvalue']]\n",
    "tmp.tail()\n",
    "\n",
    "test.module.unique()\n",
    "\n",
    "tmp = test[(test.type == 'vector') & (test.module=='CompleteNetwork7.node_1')]\n",
    "tmp.head()\n",
    "\n",
    "test = test.assign(qname = test.module + \".\" + test.name)\n",
    "test[test.type=='vector'].head()\n",
    "\n",
    "vector = test[test.type =='vector']\n",
    "len(vector)\n",
    "\n",
    "vector.name.unique(), vector.module.unique()\n",
    "vector.head()\n",
    "\n",
    "somevectors = vector[vector.name == \"msg_Sent\"][:1]\n",
    "for row in somevectors.itertuples():\n",
    "    plt.plot(row.vectime, row.vecvalue, drawstyle='steps-post')\n",
    "#plt.legend(somevectors.module)\n",
    "plt.show()\n",
    "\n",
    "# vec = vector[vector.name == 'Msg_Sent'].iloc[4]\n",
    "# plt.plot(vec.vectime, vec.vecvalue, drawstyle='steps-post')\n",
    "# plt.xlim(0,)\n",
    "# plt.show()\n"
   ]
  }
 ],
 "metadata": {
  "kernelspec": {
   "display_name": "Python 3",
   "language": "python",
   "name": "python3"
  },
  "language_info": {
   "codemirror_mode": {
    "name": "ipython",
    "version": 3
   },
   "file_extension": ".py",
   "mimetype": "text/x-python",
   "name": "python",
   "nbconvert_exporter": "python",
   "pygments_lexer": "ipython3",
   "version": "3.6.8"
  }
 },
 "nbformat": 4,
 "nbformat_minor": 2
}
